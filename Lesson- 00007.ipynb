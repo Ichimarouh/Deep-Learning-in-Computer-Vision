{
 "cells": [
  {
   "cell_type": "markdown",
   "metadata": {
    "id": "y7c-vhTto-1_"
   },
   "source": [
    "## Глубокое обучение в компьютерном зрении.\n"
   ]
  },
  {
   "cell_type": "markdown",
   "metadata": {
    "id": "OZXHhZb6CHvF"
   },
   "source": [
    "### Урок 7. Обработка видео."
   ]
  },
  {
   "cell_type": "markdown",
   "metadata": {
    "id": "4t-hkxKVCH58"
   },
   "source": [
    "**Обучить нейронную сеть для распознавания действий человека по видео на датасете KTH.**"
   ]
  },
  {
   "cell_type": "code",
   "execution_count": null,
   "metadata": {
    "id": "cqhfvqRrugoS"
   },
   "outputs": [],
   "source": [
    "%tensorflow_version 2.x"
   ]
  },
  {
   "cell_type": "code",
   "execution_count": null,
   "metadata": {
    "id": "iv4yU3Gb4MlY"
   },
   "outputs": [],
   "source": [
    "import numpy as np\n",
    "\n",
    "import random\n",
    "\n",
    "import os\n",
    "\n",
    "import glob\n",
    "\n",
    "import tensorflow as tf\n",
    "\n",
    "import matplotlib.pyplot as plt\n",
    "%matplotlib inline"
   ]
  },
  {
   "cell_type": "code",
   "execution_count": null,
   "metadata": {
    "colab": {
     "base_uri": "https://localhost:8080/",
     "height": 90
    },
    "id": "rEbPbpjIDV57",
    "outputId": "26185366-f57a-4906-bb2a-0650cc6a1e75"
   },
   "outputs": [
    {
     "name": "stdout",
     "output_type": "stream",
     "text": [
      "Requirement already satisfied: scikit-video==1.1.11 in /usr/local/lib/python3.6/dist-packages (1.1.11)\n",
      "Requirement already satisfied: scipy in /usr/local/lib/python3.6/dist-packages (from scikit-video==1.1.11) (1.4.1)\n",
      "Requirement already satisfied: numpy in /usr/local/lib/python3.6/dist-packages (from scikit-video==1.1.11) (1.18.3)\n",
      "Requirement already satisfied: pillow in /usr/local/lib/python3.6/dist-packages (from scikit-video==1.1.11) (7.0.0)\n"
     ]
    }
   ],
   "source": [
    "if 1:\n",
    "    !pip install scikit-video==1.1.11\n",
    "import skvideo.io"
   ]
  },
  {
   "cell_type": "markdown",
   "metadata": {
    "id": "gshnlHKETjEI"
   },
   "source": [
    "**Загрузим и разархивируем датасета KTH.**"
   ]
  },
  {
   "cell_type": "code",
   "execution_count": null,
   "metadata": {
    "id": "oUKrI6l_1CK_"
   },
   "outputs": [],
   "source": [
    "if 0:\n",
    "    !wget http://www.nada.kth.se/cvap/actions/walking.zip\n",
    "    !wget http://www.nada.kth.se/cvap/actions/jogging.zip\n",
    "    !wget http://www.nada.kth.se/cvap/actions/running.zip\n",
    "    !wget http://www.nada.kth.se/cvap/actions/boxing.zip\n",
    "    !wget http://www.nada.kth.se/cvap/actions/handwaving.zip\n",
    "    !wget http://www.nada.kth.se/cvap/actions/handclapping.zip \n",
    "\n",
    "if 0:\n",
    "    !unzip walking.zip -d walking > /dev/null\n",
    "    !unzip jogging.zip -d jogging > /dev/null\n",
    "    !unzip running.zip -d running > /dev/null\n",
    "    !unzip boxing.zip -d boxing > /dev/null\n",
    "    !unzip handwaving.zip -d handwaving > /dev/null\n",
    "    !unzip handclapping.zip -d handclapping > /dev/null"
   ]
  },
  {
   "cell_type": "markdown",
   "metadata": {
    "id": "z9xxQH9LTsll"
   },
   "source": [
    "**Подготовим датасет для классификации.**"
   ]
  },
  {
   "cell_type": "code",
   "execution_count": null,
   "metadata": {
    "colab": {
     "base_uri": "https://localhost:8080/",
     "height": 126
    },
    "id": "xXx10w4T7JcT",
    "outputId": "ffa8a769-9030-4926-b49b-bdf63e502090"
   },
   "outputs": [
    {
     "name": "stdout",
     "output_type": "stream",
     "text": [
      "Processing class: walking\n",
      "Processing class: jogging\n",
      "Processing class: running\n",
      "Processing class: boxing\n",
      "Processing class: handwaving\n",
      "Processing class: handclapping\n"
     ]
    }
   ],
   "source": [
    "classes = [\n",
    "    'walking',\n",
    "    'jogging',\n",
    "    'running',\n",
    "    'boxing',\n",
    "    'handwaving',\n",
    "    'handclapping',\n",
    "]\n",
    "\n",
    "dataset = []\n",
    "\n",
    "data_root = './'\n",
    "\n",
    "for cls in classes:\n",
    "    print(f'Processing class: {cls}')\n",
    "    for fpath in glob.glob(os.path.join(data_root, cls, '*.avi')):\n",
    "        cls_idx = classes.index(cls)\n",
    "        dataset.append((fpath, cls_idx))"
   ]
  },
  {
   "cell_type": "code",
   "execution_count": null,
   "metadata": {
    "colab": {
     "base_uri": "https://localhost:8080/",
     "height": 108
    },
    "id": "-hs_HcrC5nJG",
    "outputId": "74e12ade-4eb2-4267-b8c2-d9e072a0b54c"
   },
   "outputs": [
    {
     "data": {
      "text/plain": [
       "[('./walking/person19_walking_d4_uncomp.avi', 0),\n",
       " ('./walking/person03_walking_d2_uncomp.avi', 0),\n",
       " ('./walking/person08_walking_d1_uncomp.avi', 0),\n",
       " ('./walking/person07_walking_d1_uncomp.avi', 0),\n",
       " ('./walking/person17_walking_d3_uncomp.avi', 0)]"
      ]
     },
     "execution_count": 6,
     "metadata": {
      "tags": []
     },
     "output_type": "execute_result"
    }
   ],
   "source": [
    "dataset[:5]"
   ]
  },
  {
   "cell_type": "code",
   "execution_count": null,
   "metadata": {
    "colab": {
     "base_uri": "https://localhost:8080/",
     "height": 54
    },
    "id": "uEMpKM7F3oqv",
    "outputId": "12bb04c3-b6d4-4d7c-a37d-a220a53c2262"
   },
   "outputs": [
    {
     "name": "stdout",
     "output_type": "stream",
     "text": [
      "Train samples (subset): 180\n",
      "Test samples (subset): 30\n"
     ]
    }
   ],
   "source": [
    "TRAIN_LEN = 180\n",
    "\n",
    "TEST_LEN = 30\n",
    "\n",
    "random.shuffle(dataset)\n",
    "\n",
    "train = dataset[:TRAIN_LEN]\n",
    "\n",
    "test = dataset[TRAIN_LEN: (TRAIN_LEN + TEST_LEN)]\n",
    "\n",
    "print('Train samples (subset):', len(train))\n",
    "print('Test samples (subset):', len(test))"
   ]
  },
  {
   "cell_type": "code",
   "execution_count": null,
   "metadata": {
    "colab": {
     "base_uri": "https://localhost:8080/",
     "height": 108
    },
    "id": "a6SgHZdeHEOx",
    "outputId": "4deb551f-3a71-49ea-9640-35cb36e7e368"
   },
   "outputs": [
    {
     "data": {
      "text/plain": [
       "[('./handwaving/person08_handwaving_d4_uncomp.avi', 4),\n",
       " ('./walking/person12_walking_d2_uncomp.avi', 0),\n",
       " ('./running/person25_running_d4_uncomp.avi', 2),\n",
       " ('./handclapping/person10_handclapping_d4_uncomp.avi', 5),\n",
       " ('./handwaving/person04_handwaving_d1_uncomp.avi', 4)]"
      ]
     },
     "execution_count": 8,
     "metadata": {
      "tags": []
     },
     "output_type": "execute_result"
    }
   ],
   "source": [
    "train[:5]"
   ]
  },
  {
   "cell_type": "code",
   "execution_count": null,
   "metadata": {
    "id": "3ZReiGq7U6Je"
   },
   "outputs": [],
   "source": [
    "train_shapes = []\n",
    "\n",
    "for i in range(len(train)):\n",
    "    videodata = skvideo.io.vread(train[i][0])\n",
    "    train_shapes.append(videodata.shape)"
   ]
  },
  {
   "cell_type": "code",
   "execution_count": null,
   "metadata": {
    "colab": {
     "base_uri": "https://localhost:8080/",
     "height": 35
    },
    "id": "C4PBpnN7U6Mj",
    "outputId": "ac49d94c-ea7f-40ff-e882-5275e306499c"
   },
   "outputs": [
    {
     "data": {
      "text/plain": [
       "((230, 120, 160, 3), (1092, 120, 160, 3))"
      ]
     },
     "execution_count": 10,
     "metadata": {
      "tags": []
     },
     "output_type": "execute_result"
    }
   ],
   "source": [
    "train_shapes = sorted(train_shapes)\n",
    "train_shapes[0], train_shapes[-1]"
   ]
  },
  {
   "cell_type": "code",
   "execution_count": null,
   "metadata": {
    "id": "suvHQ4LJiK11"
   },
   "outputs": [],
   "source": [
    "test_shapes = []\n",
    "\n",
    "for i in range(len(test)):\n",
    "    videodata = skvideo.io.vread(test[i][0])\n",
    "    test_shapes.append(videodata.shape)"
   ]
  },
  {
   "cell_type": "code",
   "execution_count": null,
   "metadata": {
    "colab": {
     "base_uri": "https://localhost:8080/",
     "height": 35
    },
    "id": "9onB2cVLiLg2",
    "outputId": "b5644272-3ae0-4352-b577-775366e097a2"
   },
   "outputs": [
    {
     "data": {
      "text/plain": [
       "((256, 120, 160, 3), (1492, 120, 160, 3))"
      ]
     },
     "execution_count": 12,
     "metadata": {
      "tags": []
     },
     "output_type": "execute_result"
    }
   ],
   "source": [
    "test_shapes = sorted(test_shapes)\n",
    "\n",
    "test_shapes[0], test_shapes[-1]"
   ]
  },
  {
   "cell_type": "markdown",
   "metadata": {
    "id": "xKecX592UCxv"
   },
   "source": [
    "**Визуализация кадра из видео.**"
   ]
  },
  {
   "cell_type": "code",
   "execution_count": null,
   "metadata": {
    "colab": {
     "base_uri": "https://localhost:8080/",
     "height": 305
    },
    "id": "SDRvDuY5VEKT",
    "outputId": "a5e61a71-0941-4d7d-e74c-7d81028e5e77"
   },
   "outputs": [
    {
     "name": "stdout",
     "output_type": "stream",
     "text": [
      "videodata shape: (478, 120, 160, 3)\n"
     ]
    },
    {
     "data": {
      "text/plain": [
       "<matplotlib.image.AxesImage at 0x7f9e2cbf75f8>"
      ]
     },
     "execution_count": 13,
     "metadata": {
      "tags": []
     },
     "output_type": "execute_result"
    },
    {
     "data": {
      "image/png": "[encoded data removed]",
      "text/plain": [
       "<Figure size 432x288 with 1 Axes>"
      ]
     },
     "metadata": {
      "needs_background": "light",
      "tags": []
     },
     "output_type": "display_data"
    }
   ],
   "source": [
    "videodata = skvideo.io.vread(train[0][0])\n",
    "\n",
    "videodata = videodata.astype(np.float32) / 255.\n",
    "\n",
    "print('videodata shape:', videodata.shape)\n",
    "\n",
    "plt.imshow(videodata[50, ...])"
   ]
  },
  {
   "cell_type": "markdown",
   "metadata": {
    "id": "ZvDqIgDKUHfj"
   },
   "source": [
    "**Визуализация движения.**"
   ]
  },
  {
   "cell_type": "code",
   "execution_count": null,
   "metadata": {
    "colab": {
     "base_uri": "https://localhost:8080/",
     "height": 305
    },
    "id": "n3y0fPuExC_q",
    "outputId": "dfa9ece0-2528-4924-f5f7-ef726e63c0c9"
   },
   "outputs": [
    {
     "name": "stdout",
     "output_type": "stream",
     "text": [
      "motion shape: (477, 120, 160, 1)\n"
     ]
    },
    {
     "data": {
      "text/plain": [
       "<matplotlib.image.AxesImage at 0x7f9e2c6c9be0>"
      ]
     },
     "execution_count": 14,
     "metadata": {
      "tags": []
     },
     "output_type": "execute_result"
    },
    {
     "data": {
      "image/png": "[encoded data removed]",
      "text/plain": [
       "<Figure size 432x288 with 1 Axes>"
      ]
     },
     "metadata": {
      "needs_background": "light",
      "tags": []
     },
     "output_type": "display_data"
    }
   ],
   "source": [
    "motion = np.mean(videodata[1:, ...] - videodata[:-1, ...], axis=3, keepdims=True)\n",
    "\n",
    "print('motion shape:', motion.shape)\n",
    "\n",
    "plt.imshow(motion[50, ..., 0])"
   ]
  },
  {
   "cell_type": "markdown",
   "metadata": {
    "id": "99Ny75RhIAym"
   },
   "source": [
    "**Создадим пайплайн данных.**"
   ]
  },
  {
   "cell_type": "code",
   "execution_count": null,
   "metadata": {
    "id": "HnlcXqZIxcBe"
   },
   "outputs": [],
   "source": [
    "path_to_train_video = []\n",
    "\n",
    "train_labels = []\n",
    "\n",
    "for tpl in train:\n",
    "    path_to_train_video.append(tpl[0])\n",
    "    train_labels.append(tpl[1])"
   ]
  },
  {
   "cell_type": "code",
   "execution_count": null,
   "metadata": {
    "id": "qrTuASYkcvVY"
   },
   "outputs": [],
   "source": [
    "path_to_test_video = []\n",
    "\n",
    "test_labels = []\n",
    "\n",
    "for tpl in test:\n",
    "    path_to_test_video.append(tpl[0])\n",
    "    test_labels.append(tpl[1])"
   ]
  },
  {
   "cell_type": "code",
   "execution_count": null,
   "metadata": {
    "id": "IBdG3r8KPmFu"
   },
   "outputs": [],
   "source": [
    "def from_item_to_video(path_to_video):\n",
    "    videodata = skvideo.io.vread(path_to_video.numpy().decode())\n",
    "    videodata = videodata.astype(np.float32) / 255.\n",
    "    return videodata"
   ]
  },
  {
   "cell_type": "code",
   "execution_count": null,
   "metadata": {
    "id": "6O-_TxSQbdw-"
   },
   "outputs": [],
   "source": [
    "def prepare(path_to_video, labels):\n",
    "    videodata = tf.py_function(from_item_to_video, [path_to_video], [tf.float32])\n",
    "    return videodata, labels"
   ]
  },
  {
   "cell_type": "code",
   "execution_count": null,
   "metadata": {
    "id": "pwRAcNUub1nw"
   },
   "outputs": [],
   "source": [
    "train_ds = tf.data.Dataset.from_tensor_slices((path_to_train_video, train_labels))\n",
    "\n",
    "train_ds = train_ds.shuffle(buffer_size=len(path_to_train_video), reshuffle_each_iteration=True)\n",
    "\n",
    "train_ds = train_ds.map(prepare, num_parallel_calls=1)"
   ]
  },
  {
   "cell_type": "code",
   "execution_count": null,
   "metadata": {
    "id": "XoEiswF1Mq1p"
   },
   "outputs": [],
   "source": [
    "test_ds = tf.data.Dataset.from_tensor_slices((path_to_test_video, test_labels))\n",
    "\n",
    "test_ds = test_ds.shuffle(buffer_size=len(path_to_train_video), reshuffle_each_iteration=True)\n",
    "\n",
    "test_ds = test_ds.map(prepare, num_parallel_calls=1)"
   ]
  },
  {
   "cell_type": "markdown",
   "metadata": {
    "id": "u_JRhbwtNt1a"
   },
   "source": [
    "**Создадим собственный слой Conv + BatchNorm + ReLU.**"
   ]
  },
  {
   "cell_type": "code",
   "execution_count": null,
   "metadata": {
    "id": "ouFd4W0hNwdp"
   },
   "outputs": [],
   "source": [
    "class CBR(tf.keras.layers.Layer):\n",
    "    \n",
    "    def __init__(self, filters, kernel_size, strides, **kwargs):\n",
    "        super().__init__()        \n",
    "        self.conv = tf.keras.layers.Conv3D(filters, kernel_size, strides, **kwargs)\n",
    "        self.bn = tf.keras.layers.BatchNormalization()\n",
    "        \n",
    "    def call(self, inp, training=False):\n",
    "        out = self.conv(inp)\n",
    "        out = self.bn(out, training)\n",
    "        out = tf.nn.relu(out)        \n",
    "        return out"
   ]
  },
  {
   "cell_type": "markdown",
   "metadata": {
    "id": "WMuN7QibUPJa"
   },
   "source": [
    "**Создадим модель CNN.**"
   ]
  },
  {
   "cell_type": "code",
   "execution_count": null,
   "metadata": {
    "id": "-IbbBxRa3ue4"
   },
   "outputs": [],
   "source": [
    "WEIGHT_DECAY = 0.001\n",
    "\n",
    "wd = tf.keras.regularizers.l2(WEIGHT_DECAY)"
   ]
  },
  {
   "cell_type": "code",
   "execution_count": null,
   "metadata": {
    "id": "H59Yxf-Wtm1t"
   },
   "outputs": [],
   "source": [
    "def build_model():\n",
    "    x = tf.keras.layers.Input(shape=(None, None, None, 3))\n",
    "    \n",
    "    out = CBR(32, (5, 5, 5), (1, 2, 2), padding='same', kernel_regularizer=wd)(x)\n",
    "    out = tf.keras.layers.MaxPool3D((1, 2, 2), padding='same')(out)\n",
    "\n",
    "    out = CBR(64, (5, 5, 5), (1, 2, 2), padding='same', kernel_regularizer=wd)(out)\n",
    "    out = tf.keras.layers.MaxPool3D((1, 2, 2), padding='same')(out)\n",
    "\n",
    "    out = CBR(64, (5, 5, 5), (1, 2, 2), padding='same', kernel_regularizer=wd)(out)\n",
    "    out = tf.keras.layers.MaxPool3D((1, 2, 2), padding='same')(out)\n",
    "\n",
    "    out = tf.keras.layers.Conv3D(64, (3, 3, 3), (1, 1, 1), padding='same', activation=None, kernel_regularizer=wd)(out)\n",
    "    out = tf.keras.layers.BatchNormalization()(out)\n",
    "\n",
    "    out = tf.keras.layers.GlobalAveragePooling3D()(out)\n",
    "\n",
    "    out = tf.keras.layers.Dense(64, activation='relu', kernel_regularizer=wd)(out)\n",
    "    out = tf.keras.layers.Dropout(0.5)(out)\n",
    "    out = tf.keras.layers.Dense(6, activation=None)(out)\n",
    "\n",
    "    return tf.keras.Model(inputs=x, outputs=out)\n",
    "\n",
    "model = build_model()"
   ]
  },
  {
   "cell_type": "markdown",
   "metadata": {
    "id": "KRR7KDG_UTqW"
   },
   "source": [
    "**Подготовка к обучению.**"
   ]
  },
  {
   "cell_type": "code",
   "execution_count": null,
   "metadata": {
    "id": "R_IRN1KLu8YC"
   },
   "outputs": [],
   "source": [
    "NUM_EPOCHS = 10\n",
    "\n",
    "LEARNING_RATE = 0.001\n",
    "\n",
    "model.compile(\n",
    "    loss=tf.keras.losses.SparseCategoricalCrossentropy(from_logits=True), \n",
    "    optimizer=tf.keras.optimizers.Adam(LEARNING_RATE),\n",
    "    )"
   ]
  },
  {
   "cell_type": "code",
   "execution_count": null,
   "metadata": {
    "colab": {
     "base_uri": "https://localhost:8080/",
     "height": 1000
    },
    "id": "YibYlGgwz2Eb",
    "outputId": "f1bd32e1-bb7c-46a0-fca8-937ca81ec531"
   },
   "outputs": [
    {
     "data": {
      "image/png": "[encoded data removed]",
      "text/plain": [
       "<IPython.core.display.Image object>"
      ]
     },
     "execution_count": 28,
     "metadata": {
      "tags": []
     },
     "output_type": "execute_result"
    }
   ],
   "source": [
    "tf.keras.utils.plot_model(model)"
   ]
  },
  {
   "cell_type": "code",
   "execution_count": null,
   "metadata": {
    "id": "q5f8dTWlKoLu"
   },
   "outputs": [],
   "source": [
    "tensorboard_callback = tf.keras.callbacks.TensorBoard(\n",
    "    log_dir='logs/my_model', \n",
    "    write_graph=False, update_freq=100, profile_batch=0)"
   ]
  },
  {
   "cell_type": "markdown",
   "metadata": {
    "id": "fhoQJznuKzkT"
   },
   "source": [
    "**Обучение модели.**"
   ]
  },
  {
   "cell_type": "code",
   "execution_count": null,
   "metadata": {
    "colab": {
     "base_uri": "https://localhost:8080/",
     "height": 417
    },
    "id": "8fohmMoIKvs_",
    "outputId": "f5a5d76c-808a-42ed-eadb-b8db0a8f4d2b"
   },
   "outputs": [
    {
     "name": "stdout",
     "output_type": "stream",
     "text": [
      "Epoch 1/10\n",
      "180/180 [==============================] - 826s 5s/step - loss: 1.8287 - val_loss: 1.7981\n",
      "Epoch 2/10\n",
      "180/180 [==============================] - 161s 893ms/step - loss: 1.7974 - val_loss: 1.7921\n",
      "Epoch 3/10\n",
      "180/180 [==============================] - 160s 886ms/step - loss: 1.7924 - val_loss: 1.7890\n",
      "Epoch 4/10\n",
      "180/180 [==============================] - 158s 878ms/step - loss: 1.7920 - val_loss: 1.7904\n",
      "Epoch 5/10\n",
      "180/180 [==============================] - 157s 875ms/step - loss: 1.7906 - val_loss: 1.7890\n",
      "Epoch 6/10\n",
      "180/180 [==============================] - 157s 875ms/step - loss: 1.7890 - val_loss: 1.7881\n",
      "Epoch 7/10\n",
      "180/180 [==============================] - 157s 872ms/step - loss: 1.7852 - val_loss: 1.7875\n",
      "Epoch 8/10\n",
      "180/180 [==============================] - 157s 873ms/step - loss: 1.7882 - val_loss: 1.7875\n",
      "Epoch 9/10\n",
      "180/180 [==============================] - 157s 873ms/step - loss: 1.7905 - val_loss: 1.7872\n",
      "Epoch 10/10\n",
      "180/180 [==============================] - 157s 871ms/step - loss: 1.7885 - val_loss: 1.7864\n",
      "CPU times: user 20min 52s, sys: 14min 44s, total: 35min 36s\n",
      "Wall time: 37min 47s\n"
     ]
    }
   ],
   "source": [
    "%%time\n",
    "\n",
    "NUM_EPOCHS = 10\n",
    "\n",
    "history = model.fit(\n",
    "    train_ds,\n",
    "    epochs=NUM_EPOCHS,\n",
    "    validation_data=test_ds,\n",
    "    callbacks=[tensorboard_callback])"
   ]
  },
  {
   "cell_type": "markdown",
   "metadata": {
    "id": "_AF0-jzLLFtM"
   },
   "source": [
    "**Оценка качества модели.**"
   ]
  },
  {
   "cell_type": "code",
   "execution_count": null,
   "metadata": {
    "colab": {
     "base_uri": "https://localhost:8080/",
     "height": 90
    },
    "id": "RFz37SqTLCNZ",
    "outputId": "c2a23bfc-d309-4a71-c9bd-08ab22b8a65c"
   },
   "outputs": [
    {
     "name": "stdout",
     "output_type": "stream",
     "text": [
      "30/30 [==============================] - 10s 346ms/step - loss: 1.7864\n",
      "CPU times: user 7.03 s, sys: 4.93 s, total: 12 s\n",
      "Wall time: 11.4 s\n"
     ]
    },
    {
     "data": {
      "text/plain": [
       "1.7863972187042236"
      ]
     },
     "execution_count": 31,
     "metadata": {
      "tags": []
     },
     "output_type": "execute_result"
    }
   ],
   "source": [
    "%%time\n",
    "\n",
    "model.evaluate(test_ds)"
   ]
  },
  {
   "cell_type": "code",
   "execution_count": null,
   "metadata": {
    "id": "qa9X2KT0LCT9"
   },
   "outputs": [],
   "source": [
    "prediction = model.predict(test_ds.take(1))"
   ]
  },
  {
   "cell_type": "code",
   "execution_count": null,
   "metadata": {
    "colab": {
     "base_uri": "https://localhost:8080/",
     "height": 54
    },
    "id": "7MyY1v4R0h2D",
    "outputId": "06ba1003-1402-411d-94cc-731f12c4dc1f"
   },
   "outputs": [
    {
     "data": {
      "text/plain": [
       "array([[ 0.10805774, -0.09256724,  0.01828016, -0.08647811, -0.03522424,\n",
       "         0.05997062]], dtype=float32)"
      ]
     },
     "execution_count": 50,
     "metadata": {
      "tags": []
     },
     "output_type": "execute_result"
    }
   ],
   "source": [
    "prediction"
   ]
  },
  {
   "cell_type": "code",
   "execution_count": null,
   "metadata": {
    "colab": {
     "base_uri": "https://localhost:8080/",
     "height": 54
    },
    "id": "CFeY0aHm0kwy",
    "outputId": "800948fd-6d85-4eb5-a190-ec9bf76997c8"
   },
   "outputs": [
    {
     "name": "stdout",
     "output_type": "stream",
     "text": [
      "True class: 2\n",
      "Predicted class: 0\n"
     ]
    }
   ],
   "source": [
    "cls_pred = np.argmax(prediction)\n",
    "\n",
    "print('True class:', test_labels[0])\n",
    "print('Predicted class:', cls_pred)"
   ]
  }
 ],
 "metadata": {
  "accelerator": "GPU",
  "colab": {
   "collapsed_sections": [],
   "machine_shape": "hm",
   "name": "Копия блокнота \"hw_7_Video.ipynb\"",
   "provenance": []
  },
  "kernelspec": {
   "display_name": "Python 3 (ipykernel)",
   "language": "python",
   "name": "python3"
  },
  "language_info": {
   "codemirror_mode": {
    "name": "ipython",
    "version": 3
   },
   "file_extension": ".py",
   "mimetype": "text/x-python",
   "name": "python",
   "nbconvert_exporter": "python",
   "pygments_lexer": "ipython3",
   "version": "3.9.7"
  }
 },
 "nbformat": 4,
 "nbformat_minor": 1
}
